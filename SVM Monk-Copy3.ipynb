{
 "cells": [
  {
   "cell_type": "markdown",
   "metadata": {},
   "source": [
    "# MONK 1"
   ]
  },
  {
   "cell_type": "markdown",
   "metadata": {},
   "source": [
    "# DATA  PREPROCESSING"
   ]
  },
  {
   "cell_type": "code",
   "execution_count": 1,
   "metadata": {},
   "outputs": [],
   "source": [
    "import numpy as np\n",
    "import matplotlib.pyplot as plt\n",
    "import pandas as pd\n",
    "from sklearn.preprocessing import MinMaxScaler\n",
    "from sklearn.model_selection import train_test_split\n",
    "from sklearn.model_selection import GridSearchCV\n",
    "from sklearn.metrics import classification_report\n",
    "from sklearn.svm import SVC\n",
    "from sklearn import metrics\n",
    "from sklearn.metrics import classification_report, confusion_matrix\n",
    "%matplotlib inline"
   ]
  },
  {
   "cell_type": "code",
   "execution_count": 2,
   "metadata": {},
   "outputs": [],
   "source": [
    "import warnings\n",
    "\n",
    "def fxn():\n",
    "    warnings.warn(\"deprecated\", DeprecationWarning)\n",
    "\n",
    "with warnings.catch_warnings():\n",
    "    warnings.simplefilter(\"ignore\")\n",
    "    fxn()\n",
    "warnings.filterwarnings(\"ignore\")"
   ]
  },
  {
   "cell_type": "code",
   "execution_count": 3,
   "metadata": {},
   "outputs": [],
   "source": [
    "df_train=pd.read_csv(\"/Users/matteoppa/Desktop/ML/ML_project_2020/train1.csv\",sep=' ',header=None)\n",
    "df_test=pd.read_csv(\"/Users/matteoppa/Desktop/ML/ML_project_2020/test1.csv\",sep=' ',header=None)"
   ]
  },
  {
   "cell_type": "code",
   "execution_count": 4,
   "metadata": {},
   "outputs": [],
   "source": [
    "df_train.columns = [\"trash\",\"Class\",\"a1\",\"a2\",\"a3\",\"a4\",\"a5\",\"a6\",\"id\"]"
   ]
  },
  {
   "cell_type": "code",
   "execution_count": 5,
   "metadata": {},
   "outputs": [],
   "source": [
    "df_test.columns = [\"trash\",\"Class\",\"a1\",\"a2\",\"a3\",\"a4\",\"a5\",\"a6\",\"id\"]"
   ]
  },
  {
   "cell_type": "code",
   "execution_count": 6,
   "metadata": {},
   "outputs": [],
   "source": [
    "df_train.drop('trash',\n",
    "  axis='columns', inplace=True)\n",
    "df_train.drop(\"id\", axis='columns', inplace=True)"
   ]
  },
  {
   "cell_type": "code",
   "execution_count": 7,
   "metadata": {},
   "outputs": [],
   "source": [
    "df_test.drop('trash',\n",
    "  axis='columns', inplace=True)\n",
    "df_test.drop(\"id\", axis='columns', inplace=True)"
   ]
  },
  {
   "cell_type": "code",
   "execution_count": 8,
   "metadata": {},
   "outputs": [],
   "source": [
    "scaler = MinMaxScaler()\n",
    "# transform data\n",
    "scaled_train = scaler.fit_transform(df_train)\n",
    "scaled_test = scaler.fit_transform(df_test)"
   ]
  },
  {
   "cell_type": "code",
   "execution_count": 9,
   "metadata": {},
   "outputs": [],
   "source": [
    "y = df_train[\"Class\"]\n",
    "X = df_train.drop(\"Class\", axis =1)\n"
   ]
  },
  {
   "cell_type": "code",
   "execution_count": 10,
   "metadata": {},
   "outputs": [],
   "source": [
    "y_t = df_test[\"Class\"]\n",
    "X_t = df_test.drop(\"Class\", axis=1)"
   ]
  },
  {
   "cell_type": "code",
   "execution_count": 11,
   "metadata": {},
   "outputs": [],
   "source": [
    "from sklearn.model_selection import train_test_split\n",
    "X_train, X_val, y_train, y_val = train_test_split(X, y, test_size = 0.20)"
   ]
  },
  {
   "cell_type": "markdown",
   "metadata": {},
   "source": [
    "# CV - SVC"
   ]
  },
  {
   "cell_type": "code",
   "execution_count": 12,
   "metadata": {},
   "outputs": [],
   "source": [
    "from sklearn.model_selection import RandomizedSearchCV\n",
    "from sklearn.svm import SVC"
   ]
  },
  {
   "cell_type": "code",
   "execution_count": 13,
   "metadata": {},
   "outputs": [],
   "source": [
    "#1e-5, 1e-4, 1e-3, 1e-2, 1e-1, 0.5, 1, 1.5, 2, 2.5, 3, 3.5, 4, 4.5, 5"
   ]
  },
  {
   "cell_type": "code",
   "execution_count": 14,
   "metadata": {},
   "outputs": [
    {
     "name": "stdout",
     "output_type": "stream",
     "text": [
      "# Tuning hyper-parameters for precision\n",
      "\n",
      "Best parameters set found on development set:\n",
      "\n",
      "{'C': 0.1, 'gamma': 0.1, 'kernel': 'rbf'}\n",
      "\n",
      "Grid scores on development set:\n",
      "\n",
      "0.263 (+/-0.022) for {'C': 1e-05, 'gamma': 1, 'kernel': 'rbf'}\n",
      "0.263 (+/-0.022) for {'C': 1e-05, 'gamma': 0.5, 'kernel': 'rbf'}\n",
      "0.263 (+/-0.022) for {'C': 1e-05, 'gamma': 0.1, 'kernel': 'rbf'}\n",
      "0.263 (+/-0.022) for {'C': 1e-05, 'gamma': 0.01, 'kernel': 'rbf'}\n",
      "0.263 (+/-0.022) for {'C': 1e-05, 'gamma': 0.001, 'kernel': 'rbf'}\n",
      "0.263 (+/-0.022) for {'C': 1e-05, 'gamma': 0.0001, 'kernel': 'rbf'}\n",
      "0.263 (+/-0.022) for {'C': 1e-05, 'gamma': 1e-05, 'kernel': 'rbf'}\n",
      "0.263 (+/-0.022) for {'C': 0.0001, 'gamma': 1, 'kernel': 'rbf'}\n",
      "0.263 (+/-0.022) for {'C': 0.0001, 'gamma': 0.5, 'kernel': 'rbf'}\n",
      "0.263 (+/-0.022) for {'C': 0.0001, 'gamma': 0.1, 'kernel': 'rbf'}\n",
      "0.263 (+/-0.022) for {'C': 0.0001, 'gamma': 0.01, 'kernel': 'rbf'}\n",
      "0.263 (+/-0.022) for {'C': 0.0001, 'gamma': 0.001, 'kernel': 'rbf'}\n",
      "0.263 (+/-0.022) for {'C': 0.0001, 'gamma': 0.0001, 'kernel': 'rbf'}\n",
      "0.263 (+/-0.022) for {'C': 0.0001, 'gamma': 1e-05, 'kernel': 'rbf'}\n",
      "0.263 (+/-0.022) for {'C': 0.001, 'gamma': 1, 'kernel': 'rbf'}\n",
      "0.263 (+/-0.022) for {'C': 0.001, 'gamma': 0.5, 'kernel': 'rbf'}\n",
      "0.263 (+/-0.022) for {'C': 0.001, 'gamma': 0.1, 'kernel': 'rbf'}\n",
      "0.263 (+/-0.022) for {'C': 0.001, 'gamma': 0.01, 'kernel': 'rbf'}\n",
      "0.263 (+/-0.022) for {'C': 0.001, 'gamma': 0.001, 'kernel': 'rbf'}\n",
      "0.263 (+/-0.022) for {'C': 0.001, 'gamma': 0.0001, 'kernel': 'rbf'}\n",
      "0.263 (+/-0.022) for {'C': 0.001, 'gamma': 1e-05, 'kernel': 'rbf'}\n",
      "0.263 (+/-0.022) for {'C': 0.01, 'gamma': 1, 'kernel': 'rbf'}\n",
      "0.263 (+/-0.022) for {'C': 0.01, 'gamma': 0.5, 'kernel': 'rbf'}\n",
      "0.263 (+/-0.022) for {'C': 0.01, 'gamma': 0.1, 'kernel': 'rbf'}\n",
      "0.263 (+/-0.022) for {'C': 0.01, 'gamma': 0.01, 'kernel': 'rbf'}\n",
      "0.263 (+/-0.022) for {'C': 0.01, 'gamma': 0.001, 'kernel': 'rbf'}\n",
      "0.263 (+/-0.022) for {'C': 0.01, 'gamma': 0.0001, 'kernel': 'rbf'}\n",
      "0.263 (+/-0.022) for {'C': 0.01, 'gamma': 1e-05, 'kernel': 'rbf'}\n",
      "0.263 (+/-0.022) for {'C': 0.1, 'gamma': 1, 'kernel': 'rbf'}\n",
      "0.263 (+/-0.022) for {'C': 0.1, 'gamma': 0.5, 'kernel': 'rbf'}\n",
      "0.812 (+/-0.068) for {'C': 0.1, 'gamma': 0.1, 'kernel': 'rbf'}\n",
      "0.263 (+/-0.022) for {'C': 0.1, 'gamma': 0.01, 'kernel': 'rbf'}\n",
      "0.263 (+/-0.022) for {'C': 0.1, 'gamma': 0.001, 'kernel': 'rbf'}\n",
      "0.263 (+/-0.022) for {'C': 0.1, 'gamma': 0.0001, 'kernel': 'rbf'}\n",
      "0.263 (+/-0.022) for {'C': 0.1, 'gamma': 1e-05, 'kernel': 'rbf'}\n",
      "0.263 (+/-0.022) for {'C': 1e-05, 'kernel': 'linear'}\n",
      "0.263 (+/-0.022) for {'C': 0.0001, 'kernel': 'linear'}\n",
      "0.263 (+/-0.022) for {'C': 0.001, 'kernel': 'linear'}\n",
      "0.778 (+/-0.227) for {'C': 0.01, 'kernel': 'linear'}\n",
      "0.715 (+/-0.228) for {'C': 0.1, 'kernel': 'linear'}\n",
      "0.713 (+/-0.294) for {'C': 0.5, 'kernel': 'linear'}\n",
      "\n",
      "Detailed classification report:\n",
      "\n",
      "The model is trained on the full development set.\n",
      "The scores are computed on the full evaluation set.\n",
      "\n",
      "              precision    recall  f1-score   support\n",
      "\n",
      "           0       0.56      0.90      0.69        10\n",
      "           1       0.89      0.53      0.67        15\n",
      "\n",
      "    accuracy                           0.68        25\n",
      "   macro avg       0.73      0.72      0.68        25\n",
      "weighted avg       0.76      0.68      0.68        25\n",
      "\n",
      "\n",
      "# Tuning hyper-parameters for recall\n",
      "\n",
      "Best parameters set found on development set:\n",
      "\n",
      "{'C': 0.1, 'kernel': 'linear'}\n",
      "\n",
      "Grid scores on development set:\n",
      "\n",
      "0.500 (+/-0.000) for {'C': 1e-05, 'gamma': 1, 'kernel': 'rbf'}\n",
      "0.500 (+/-0.000) for {'C': 1e-05, 'gamma': 0.5, 'kernel': 'rbf'}\n",
      "0.500 (+/-0.000) for {'C': 1e-05, 'gamma': 0.1, 'kernel': 'rbf'}\n",
      "0.500 (+/-0.000) for {'C': 1e-05, 'gamma': 0.01, 'kernel': 'rbf'}\n",
      "0.500 (+/-0.000) for {'C': 1e-05, 'gamma': 0.001, 'kernel': 'rbf'}\n",
      "0.500 (+/-0.000) for {'C': 1e-05, 'gamma': 0.0001, 'kernel': 'rbf'}\n",
      "0.500 (+/-0.000) for {'C': 1e-05, 'gamma': 1e-05, 'kernel': 'rbf'}\n",
      "0.500 (+/-0.000) for {'C': 0.0001, 'gamma': 1, 'kernel': 'rbf'}\n",
      "0.500 (+/-0.000) for {'C': 0.0001, 'gamma': 0.5, 'kernel': 'rbf'}\n",
      "0.500 (+/-0.000) for {'C': 0.0001, 'gamma': 0.1, 'kernel': 'rbf'}\n",
      "0.500 (+/-0.000) for {'C': 0.0001, 'gamma': 0.01, 'kernel': 'rbf'}\n",
      "0.500 (+/-0.000) for {'C': 0.0001, 'gamma': 0.001, 'kernel': 'rbf'}\n",
      "0.500 (+/-0.000) for {'C': 0.0001, 'gamma': 0.0001, 'kernel': 'rbf'}\n",
      "0.500 (+/-0.000) for {'C': 0.0001, 'gamma': 1e-05, 'kernel': 'rbf'}\n",
      "0.500 (+/-0.000) for {'C': 0.001, 'gamma': 1, 'kernel': 'rbf'}\n",
      "0.500 (+/-0.000) for {'C': 0.001, 'gamma': 0.5, 'kernel': 'rbf'}\n",
      "0.500 (+/-0.000) for {'C': 0.001, 'gamma': 0.1, 'kernel': 'rbf'}\n",
      "0.500 (+/-0.000) for {'C': 0.001, 'gamma': 0.01, 'kernel': 'rbf'}\n",
      "0.500 (+/-0.000) for {'C': 0.001, 'gamma': 0.001, 'kernel': 'rbf'}\n",
      "0.500 (+/-0.000) for {'C': 0.001, 'gamma': 0.0001, 'kernel': 'rbf'}\n",
      "0.500 (+/-0.000) for {'C': 0.001, 'gamma': 1e-05, 'kernel': 'rbf'}\n",
      "0.500 (+/-0.000) for {'C': 0.01, 'gamma': 1, 'kernel': 'rbf'}\n",
      "0.500 (+/-0.000) for {'C': 0.01, 'gamma': 0.5, 'kernel': 'rbf'}\n",
      "0.500 (+/-0.000) for {'C': 0.01, 'gamma': 0.1, 'kernel': 'rbf'}\n",
      "0.500 (+/-0.000) for {'C': 0.01, 'gamma': 0.01, 'kernel': 'rbf'}\n",
      "0.500 (+/-0.000) for {'C': 0.01, 'gamma': 0.001, 'kernel': 'rbf'}\n",
      "0.500 (+/-0.000) for {'C': 0.01, 'gamma': 0.0001, 'kernel': 'rbf'}\n",
      "0.500 (+/-0.000) for {'C': 0.01, 'gamma': 1e-05, 'kernel': 'rbf'}\n",
      "0.500 (+/-0.000) for {'C': 0.1, 'gamma': 1, 'kernel': 'rbf'}\n",
      "0.500 (+/-0.000) for {'C': 0.1, 'gamma': 0.5, 'kernel': 'rbf'}\n",
      "0.661 (+/-0.155) for {'C': 0.1, 'gamma': 0.1, 'kernel': 'rbf'}\n",
      "0.500 (+/-0.000) for {'C': 0.1, 'gamma': 0.01, 'kernel': 'rbf'}\n",
      "0.500 (+/-0.000) for {'C': 0.1, 'gamma': 0.001, 'kernel': 'rbf'}\n",
      "0.500 (+/-0.000) for {'C': 0.1, 'gamma': 0.0001, 'kernel': 'rbf'}\n",
      "0.500 (+/-0.000) for {'C': 0.1, 'gamma': 1e-05, 'kernel': 'rbf'}\n",
      "0.500 (+/-0.000) for {'C': 1e-05, 'kernel': 'linear'}\n",
      "0.500 (+/-0.000) for {'C': 0.0001, 'kernel': 'linear'}\n",
      "0.500 (+/-0.000) for {'C': 0.001, 'kernel': 'linear'}\n",
      "0.683 (+/-0.152) for {'C': 0.01, 'kernel': 'linear'}\n",
      "0.703 (+/-0.220) for {'C': 0.1, 'kernel': 'linear'}\n",
      "0.701 (+/-0.290) for {'C': 0.5, 'kernel': 'linear'}\n",
      "\n",
      "Detailed classification report:\n",
      "\n",
      "The model is trained on the full development set.\n",
      "The scores are computed on the full evaluation set.\n",
      "\n",
      "              precision    recall  f1-score   support\n",
      "\n",
      "           0       0.56      0.90      0.69        10\n",
      "           1       0.89      0.53      0.67        15\n",
      "\n",
      "    accuracy                           0.68        25\n",
      "   macro avg       0.73      0.72      0.68        25\n",
      "weighted avg       0.76      0.68      0.68        25\n",
      "\n",
      "\n"
     ]
    }
   ],
   "source": [
    "# Qui faccio la cross validation per stimare i parametri\n",
    "tuned_parameters = [{'kernel': ['rbf'], 'gamma': [1, 0.5, 1e-1, 1e-2, 1e-3, 1e-4, 1e-5],\n",
    "                     'C': [1e-5, 1e-4, 1e-3, 1e-2, 1e-1]},\n",
    "                    {'kernel': ['linear'], 'C': [1e-5, 1e-4, 1e-3, 1e-2, 1e-1, 0.5]}]\n",
    "\n",
    "scores = ['precision', 'recall']\n",
    "\n",
    "for score in scores:\n",
    "    print(\"# Tuning hyper-parameters for %s\" % score)\n",
    "    print()\n",
    "\n",
    "    clf = GridSearchCV(\n",
    "        SVC(), tuned_parameters, scoring='%s_macro' % score\n",
    "    )\n",
    "    clf.fit(X_train, y_train)\n",
    "\n",
    "    print(\"Best parameters set found on development set:\")\n",
    "    print()\n",
    "    print(clf.best_params_)\n",
    "    print()\n",
    "    print(\"Grid scores on development set:\")\n",
    "    print()\n",
    "    means = clf.cv_results_['mean_test_score']\n",
    "    stds = clf.cv_results_['std_test_score']\n",
    "    for mean, std, params in zip(means, stds, clf.cv_results_['params']):\n",
    "        print(\"%0.3f (+/-%0.03f) for %r\"\n",
    "              % (mean, std * 2, params))\n",
    "    print()\n",
    "\n",
    "    print(\"Detailed classification report:\")\n",
    "    print()\n",
    "    print(\"The model is trained on the full development set.\")\n",
    "    print(\"The scores are computed on the full evaluation set.\")\n",
    "    print()\n",
    "    y_true, y_pred = y_val, clf.predict(X_val)\n",
    "    print(classification_report(y_true, y_pred))\n",
    "    print()"
   ]
  },
  {
   "cell_type": "code",
   "execution_count": 15,
   "metadata": {},
   "outputs": [
    {
     "name": "stdout",
     "output_type": "stream",
     "text": [
      "SVC(C=0.1, kernel='linear')\n"
     ]
    }
   ],
   "source": [
    "print(clf.best_estimator_)"
   ]
  },
  {
   "cell_type": "code",
   "execution_count": 16,
   "metadata": {},
   "outputs": [],
   "source": [
    "grid_predictions = clf.predict(X_t)"
   ]
  },
  {
   "cell_type": "code",
   "execution_count": 17,
   "metadata": {},
   "outputs": [
    {
     "name": "stdout",
     "output_type": "stream",
     "text": [
      "[[160  56]\n",
      " [ 80 136]]\n"
     ]
    }
   ],
   "source": [
    "print(confusion_matrix(y_t,grid_predictions))"
   ]
  },
  {
   "cell_type": "code",
   "execution_count": 18,
   "metadata": {},
   "outputs": [
    {
     "name": "stdout",
     "output_type": "stream",
     "text": [
      "              precision    recall  f1-score   support\n",
      "\n",
      "           0       0.67      0.74      0.70       216\n",
      "           1       0.71      0.63      0.67       216\n",
      "\n",
      "    accuracy                           0.69       432\n",
      "   macro avg       0.69      0.69      0.68       432\n",
      "weighted avg       0.69      0.69      0.68       432\n",
      "\n"
     ]
    }
   ],
   "source": [
    "print(classification_report(y_t,grid_predictions))"
   ]
  },
  {
   "cell_type": "code",
   "execution_count": 20,
   "metadata": {},
   "outputs": [],
   "source": [
    "#Per definizione si ha overfit se training accuracy > test accuracy poichè il modello non generalizza."
   ]
  },
  {
   "cell_type": "markdown",
   "metadata": {},
   "source": [
    "# MONK 2"
   ]
  },
  {
   "cell_type": "markdown",
   "metadata": {},
   "source": [
    "# IMPORT DATA"
   ]
  },
  {
   "cell_type": "code",
   "execution_count": 21,
   "metadata": {},
   "outputs": [],
   "source": [
    "df_train_2=pd.read_csv(\"/Users/matteoppa/Desktop/ML/ML_project_2020/train2.csv\",sep=' ',header=None)\n",
    "df_test_2=pd.read_csv(\"/Users/matteoppa/Desktop/ML/ML_project_2020/test2.csv\",sep=' ',header=None)"
   ]
  },
  {
   "cell_type": "code",
   "execution_count": 22,
   "metadata": {},
   "outputs": [],
   "source": [
    "df_train_2.columns = [\"trash\",\"Class\",\"a1\",\"a2\",\"a3\",\"a4\",\"a5\",\"a6\",\"id\"]"
   ]
  },
  {
   "cell_type": "code",
   "execution_count": 23,
   "metadata": {},
   "outputs": [],
   "source": [
    "df_test_2.columns = [\"trash\",\"Class\",\"a1\",\"a2\",\"a3\",\"a4\",\"a5\",\"a6\",\"id\"]"
   ]
  },
  {
   "cell_type": "code",
   "execution_count": 24,
   "metadata": {},
   "outputs": [],
   "source": [
    "df_train_2.drop('trash',\n",
    "  axis='columns', inplace=True)\n",
    "df_train_2.drop(\"id\", axis='columns', inplace=True)"
   ]
  },
  {
   "cell_type": "code",
   "execution_count": 25,
   "metadata": {},
   "outputs": [],
   "source": [
    "df_test_2.drop('trash',\n",
    "  axis='columns', inplace=True)\n",
    "df_test_2.drop(\"id\", axis='columns', inplace=True)"
   ]
  },
  {
   "cell_type": "code",
   "execution_count": 26,
   "metadata": {},
   "outputs": [],
   "source": [
    "scaler = MinMaxScaler()\n",
    "# transform data\n",
    "scaled_train_2 = scaler.fit_transform(df_train_2)\n",
    "scaled_test_2= scaler.fit_transform(df_test_2)"
   ]
  },
  {
   "cell_type": "code",
   "execution_count": 27,
   "metadata": {},
   "outputs": [],
   "source": [
    "y_2 = df_train_2[\"Class\"]\n",
    "X_2 = df_train_2.drop(\"Class\", axis =1)"
   ]
  },
  {
   "cell_type": "code",
   "execution_count": 28,
   "metadata": {},
   "outputs": [],
   "source": [
    "yt_2 = df_test_2[\"Class\"]\n",
    "Xt_2 = df_test_2.drop(\"Class\", axis =1)"
   ]
  },
  {
   "cell_type": "markdown",
   "metadata": {},
   "source": [
    "# MODEL SELECTION"
   ]
  },
  {
   "cell_type": "code",
   "execution_count": 29,
   "metadata": {},
   "outputs": [],
   "source": [
    "X_train_2, X_val_2, y_train_2, y_val_2 = train_test_split(X_2, y_2, test_size = 0.20)"
   ]
  },
  {
   "cell_type": "code",
   "execution_count": 30,
   "metadata": {},
   "outputs": [
    {
     "name": "stdout",
     "output_type": "stream",
     "text": [
      "# Tuning hyper-parameters for precision\n",
      "\n",
      "Best parameters set found on development set:\n",
      "\n",
      "{'C': 0.1, 'degree': 7, 'kernel': 'poly'}\n",
      "\n",
      "Grid scores on development set:\n",
      "\n",
      "0.311 (+/-0.015) for {'C': 1e-05, 'gamma': 0.1, 'kernel': 'rbf'}\n",
      "0.311 (+/-0.015) for {'C': 1e-05, 'gamma': 0.01, 'kernel': 'rbf'}\n",
      "0.311 (+/-0.015) for {'C': 1e-05, 'gamma': 0.001, 'kernel': 'rbf'}\n",
      "0.311 (+/-0.015) for {'C': 1e-05, 'gamma': 0.0001, 'kernel': 'rbf'}\n",
      "0.311 (+/-0.015) for {'C': 1e-05, 'gamma': 1e-05, 'kernel': 'rbf'}\n",
      "0.311 (+/-0.015) for {'C': 0.0001, 'gamma': 0.1, 'kernel': 'rbf'}\n",
      "0.311 (+/-0.015) for {'C': 0.0001, 'gamma': 0.01, 'kernel': 'rbf'}\n",
      "0.311 (+/-0.015) for {'C': 0.0001, 'gamma': 0.001, 'kernel': 'rbf'}\n",
      "0.311 (+/-0.015) for {'C': 0.0001, 'gamma': 0.0001, 'kernel': 'rbf'}\n",
      "0.311 (+/-0.015) for {'C': 0.0001, 'gamma': 1e-05, 'kernel': 'rbf'}\n",
      "0.311 (+/-0.015) for {'C': 0.001, 'gamma': 0.1, 'kernel': 'rbf'}\n",
      "0.311 (+/-0.015) for {'C': 0.001, 'gamma': 0.01, 'kernel': 'rbf'}\n",
      "0.311 (+/-0.015) for {'C': 0.001, 'gamma': 0.001, 'kernel': 'rbf'}\n",
      "0.311 (+/-0.015) for {'C': 0.001, 'gamma': 0.0001, 'kernel': 'rbf'}\n",
      "0.311 (+/-0.015) for {'C': 0.001, 'gamma': 1e-05, 'kernel': 'rbf'}\n",
      "0.311 (+/-0.015) for {'C': 0.01, 'gamma': 0.1, 'kernel': 'rbf'}\n",
      "0.311 (+/-0.015) for {'C': 0.01, 'gamma': 0.01, 'kernel': 'rbf'}\n",
      "0.311 (+/-0.015) for {'C': 0.01, 'gamma': 0.001, 'kernel': 'rbf'}\n",
      "0.311 (+/-0.015) for {'C': 0.01, 'gamma': 0.0001, 'kernel': 'rbf'}\n",
      "0.311 (+/-0.015) for {'C': 0.01, 'gamma': 1e-05, 'kernel': 'rbf'}\n",
      "0.311 (+/-0.015) for {'C': 0.1, 'gamma': 0.1, 'kernel': 'rbf'}\n",
      "0.311 (+/-0.015) for {'C': 0.1, 'gamma': 0.01, 'kernel': 'rbf'}\n",
      "0.311 (+/-0.015) for {'C': 0.1, 'gamma': 0.001, 'kernel': 'rbf'}\n",
      "0.311 (+/-0.015) for {'C': 0.1, 'gamma': 0.0001, 'kernel': 'rbf'}\n",
      "0.311 (+/-0.015) for {'C': 0.1, 'gamma': 1e-05, 'kernel': 'rbf'}\n",
      "0.311 (+/-0.015) for {'C': 0.5, 'gamma': 0.1, 'kernel': 'rbf'}\n",
      "0.311 (+/-0.015) for {'C': 0.5, 'gamma': 0.01, 'kernel': 'rbf'}\n",
      "0.311 (+/-0.015) for {'C': 0.5, 'gamma': 0.001, 'kernel': 'rbf'}\n",
      "0.311 (+/-0.015) for {'C': 0.5, 'gamma': 0.0001, 'kernel': 'rbf'}\n",
      "0.311 (+/-0.015) for {'C': 0.5, 'gamma': 1e-05, 'kernel': 'rbf'}\n",
      "0.311 (+/-0.015) for {'C': 1e-05, 'kernel': 'linear'}\n",
      "0.311 (+/-0.015) for {'C': 0.0001, 'kernel': 'linear'}\n",
      "0.311 (+/-0.015) for {'C': 0.001, 'kernel': 'linear'}\n",
      "0.311 (+/-0.015) for {'C': 0.01, 'kernel': 'linear'}\n",
      "0.311 (+/-0.015) for {'C': 0.1, 'kernel': 'linear'}\n",
      "0.311 (+/-0.015) for {'C': 0.5, 'kernel': 'linear'}\n",
      "0.311 (+/-0.015) for {'C': 1e-05, 'degree': 1, 'kernel': 'poly'}\n",
      "0.311 (+/-0.015) for {'C': 1e-05, 'degree': 2, 'kernel': 'poly'}\n",
      "0.311 (+/-0.015) for {'C': 1e-05, 'degree': 3, 'kernel': 'poly'}\n",
      "0.311 (+/-0.015) for {'C': 1e-05, 'degree': 4, 'kernel': 'poly'}\n",
      "0.311 (+/-0.015) for {'C': 1e-05, 'degree': 5, 'kernel': 'poly'}\n",
      "0.311 (+/-0.015) for {'C': 1e-05, 'degree': 6, 'kernel': 'poly'}\n",
      "0.387 (+/-0.222) for {'C': 1e-05, 'degree': 7, 'kernel': 'poly'}\n",
      "0.311 (+/-0.015) for {'C': 0.0001, 'degree': 1, 'kernel': 'poly'}\n",
      "0.311 (+/-0.015) for {'C': 0.0001, 'degree': 2, 'kernel': 'poly'}\n",
      "0.311 (+/-0.015) for {'C': 0.0001, 'degree': 3, 'kernel': 'poly'}\n",
      "0.311 (+/-0.015) for {'C': 0.0001, 'degree': 4, 'kernel': 'poly'}\n",
      "0.311 (+/-0.015) for {'C': 0.0001, 'degree': 5, 'kernel': 'poly'}\n",
      "0.454 (+/-0.183) for {'C': 0.0001, 'degree': 6, 'kernel': 'poly'}\n",
      "0.469 (+/-0.225) for {'C': 0.0001, 'degree': 7, 'kernel': 'poly'}\n",
      "0.311 (+/-0.015) for {'C': 0.001, 'degree': 1, 'kernel': 'poly'}\n",
      "0.311 (+/-0.015) for {'C': 0.001, 'degree': 2, 'kernel': 'poly'}\n",
      "0.311 (+/-0.015) for {'C': 0.001, 'degree': 3, 'kernel': 'poly'}\n",
      "0.311 (+/-0.015) for {'C': 0.001, 'degree': 4, 'kernel': 'poly'}\n",
      "0.474 (+/-0.226) for {'C': 0.001, 'degree': 5, 'kernel': 'poly'}\n",
      "0.469 (+/-0.203) for {'C': 0.001, 'degree': 6, 'kernel': 'poly'}\n",
      "0.501 (+/-0.233) for {'C': 0.001, 'degree': 7, 'kernel': 'poly'}\n",
      "0.311 (+/-0.015) for {'C': 0.01, 'degree': 1, 'kernel': 'poly'}\n",
      "0.311 (+/-0.015) for {'C': 0.01, 'degree': 2, 'kernel': 'poly'}\n",
      "0.311 (+/-0.015) for {'C': 0.01, 'degree': 3, 'kernel': 'poly'}\n",
      "0.447 (+/-0.193) for {'C': 0.01, 'degree': 4, 'kernel': 'poly'}\n",
      "0.464 (+/-0.214) for {'C': 0.01, 'degree': 5, 'kernel': 'poly'}\n",
      "0.515 (+/-0.254) for {'C': 0.01, 'degree': 6, 'kernel': 'poly'}\n",
      "0.579 (+/-0.119) for {'C': 0.01, 'degree': 7, 'kernel': 'poly'}\n",
      "0.311 (+/-0.015) for {'C': 0.1, 'degree': 1, 'kernel': 'poly'}\n",
      "0.311 (+/-0.015) for {'C': 0.1, 'degree': 2, 'kernel': 'poly'}\n",
      "0.433 (+/-0.213) for {'C': 0.1, 'degree': 3, 'kernel': 'poly'}\n",
      "0.480 (+/-0.182) for {'C': 0.1, 'degree': 4, 'kernel': 'poly'}\n",
      "0.530 (+/-0.264) for {'C': 0.1, 'degree': 5, 'kernel': 'poly'}\n",
      "0.558 (+/-0.095) for {'C': 0.1, 'degree': 6, 'kernel': 'poly'}\n",
      "0.588 (+/-0.122) for {'C': 0.1, 'degree': 7, 'kernel': 'poly'}\n",
      "0.311 (+/-0.015) for {'C': 0.5, 'degree': 1, 'kernel': 'poly'}\n",
      "0.307 (+/-0.015) for {'C': 0.5, 'degree': 2, 'kernel': 'poly'}\n",
      "0.501 (+/-0.115) for {'C': 0.5, 'degree': 3, 'kernel': 'poly'}\n",
      "0.498 (+/-0.233) for {'C': 0.5, 'degree': 4, 'kernel': 'poly'}\n",
      "0.529 (+/-0.123) for {'C': 0.5, 'degree': 5, 'kernel': 'poly'}\n",
      "0.564 (+/-0.105) for {'C': 0.5, 'degree': 6, 'kernel': 'poly'}\n",
      "0.588 (+/-0.122) for {'C': 0.5, 'degree': 7, 'kernel': 'poly'}\n",
      "\n",
      "Detailed classification report:\n",
      "\n",
      "The model is trained on the full development set.\n",
      "The scores are computed on the full evaluation set.\n",
      "\n",
      "              precision    recall  f1-score   support\n",
      "\n",
      "           0       0.75      0.71      0.73        21\n",
      "           1       0.57      0.62      0.59        13\n",
      "\n",
      "    accuracy                           0.68        34\n",
      "   macro avg       0.66      0.66      0.66        34\n",
      "weighted avg       0.68      0.68      0.68        34\n",
      "\n",
      "\n",
      "# Tuning hyper-parameters for recall\n",
      "\n",
      "Best parameters set found on development set:\n",
      "\n",
      "{'C': 0.1, 'degree': 7, 'kernel': 'poly'}\n",
      "\n",
      "Grid scores on development set:\n",
      "\n",
      "0.500 (+/-0.000) for {'C': 1e-05, 'gamma': 0.1, 'kernel': 'rbf'}\n",
      "0.500 (+/-0.000) for {'C': 1e-05, 'gamma': 0.01, 'kernel': 'rbf'}\n",
      "0.500 (+/-0.000) for {'C': 1e-05, 'gamma': 0.001, 'kernel': 'rbf'}\n",
      "0.500 (+/-0.000) for {'C': 1e-05, 'gamma': 0.0001, 'kernel': 'rbf'}\n",
      "0.500 (+/-0.000) for {'C': 1e-05, 'gamma': 1e-05, 'kernel': 'rbf'}\n",
      "0.500 (+/-0.000) for {'C': 0.0001, 'gamma': 0.1, 'kernel': 'rbf'}\n",
      "0.500 (+/-0.000) for {'C': 0.0001, 'gamma': 0.01, 'kernel': 'rbf'}\n",
      "0.500 (+/-0.000) for {'C': 0.0001, 'gamma': 0.001, 'kernel': 'rbf'}\n",
      "0.500 (+/-0.000) for {'C': 0.0001, 'gamma': 0.0001, 'kernel': 'rbf'}\n",
      "0.500 (+/-0.000) for {'C': 0.0001, 'gamma': 1e-05, 'kernel': 'rbf'}\n",
      "0.500 (+/-0.000) for {'C': 0.001, 'gamma': 0.1, 'kernel': 'rbf'}\n",
      "0.500 (+/-0.000) for {'C': 0.001, 'gamma': 0.01, 'kernel': 'rbf'}\n",
      "0.500 (+/-0.000) for {'C': 0.001, 'gamma': 0.001, 'kernel': 'rbf'}\n",
      "0.500 (+/-0.000) for {'C': 0.001, 'gamma': 0.0001, 'kernel': 'rbf'}\n",
      "0.500 (+/-0.000) for {'C': 0.001, 'gamma': 1e-05, 'kernel': 'rbf'}\n",
      "0.500 (+/-0.000) for {'C': 0.01, 'gamma': 0.1, 'kernel': 'rbf'}\n",
      "0.500 (+/-0.000) for {'C': 0.01, 'gamma': 0.01, 'kernel': 'rbf'}\n",
      "0.500 (+/-0.000) for {'C': 0.01, 'gamma': 0.001, 'kernel': 'rbf'}\n",
      "0.500 (+/-0.000) for {'C': 0.01, 'gamma': 0.0001, 'kernel': 'rbf'}\n",
      "0.500 (+/-0.000) for {'C': 0.01, 'gamma': 1e-05, 'kernel': 'rbf'}\n",
      "0.500 (+/-0.000) for {'C': 0.1, 'gamma': 0.1, 'kernel': 'rbf'}\n",
      "0.500 (+/-0.000) for {'C': 0.1, 'gamma': 0.01, 'kernel': 'rbf'}\n",
      "0.500 (+/-0.000) for {'C': 0.1, 'gamma': 0.001, 'kernel': 'rbf'}\n",
      "0.500 (+/-0.000) for {'C': 0.1, 'gamma': 0.0001, 'kernel': 'rbf'}\n",
      "0.500 (+/-0.000) for {'C': 0.1, 'gamma': 1e-05, 'kernel': 'rbf'}\n",
      "0.500 (+/-0.000) for {'C': 0.5, 'gamma': 0.1, 'kernel': 'rbf'}\n",
      "0.500 (+/-0.000) for {'C': 0.5, 'gamma': 0.01, 'kernel': 'rbf'}\n",
      "0.500 (+/-0.000) for {'C': 0.5, 'gamma': 0.001, 'kernel': 'rbf'}\n",
      "0.500 (+/-0.000) for {'C': 0.5, 'gamma': 0.0001, 'kernel': 'rbf'}\n",
      "0.500 (+/-0.000) for {'C': 0.5, 'gamma': 1e-05, 'kernel': 'rbf'}\n",
      "0.500 (+/-0.000) for {'C': 1e-05, 'kernel': 'linear'}\n",
      "0.500 (+/-0.000) for {'C': 0.0001, 'kernel': 'linear'}\n",
      "0.500 (+/-0.000) for {'C': 0.001, 'kernel': 'linear'}\n",
      "0.500 (+/-0.000) for {'C': 0.01, 'kernel': 'linear'}\n",
      "0.500 (+/-0.000) for {'C': 0.1, 'kernel': 'linear'}\n",
      "0.500 (+/-0.000) for {'C': 0.5, 'kernel': 'linear'}\n",
      "0.500 (+/-0.000) for {'C': 1e-05, 'degree': 1, 'kernel': 'poly'}\n",
      "0.500 (+/-0.000) for {'C': 1e-05, 'degree': 2, 'kernel': 'poly'}\n",
      "0.500 (+/-0.000) for {'C': 1e-05, 'degree': 3, 'kernel': 'poly'}\n",
      "0.500 (+/-0.000) for {'C': 1e-05, 'degree': 4, 'kernel': 'poly'}\n",
      "0.500 (+/-0.000) for {'C': 1e-05, 'degree': 5, 'kernel': 'poly'}\n",
      "0.500 (+/-0.000) for {'C': 1e-05, 'degree': 6, 'kernel': 'poly'}\n",
      "0.472 (+/-0.073) for {'C': 1e-05, 'degree': 7, 'kernel': 'poly'}\n",
      "0.500 (+/-0.000) for {'C': 0.0001, 'degree': 1, 'kernel': 'poly'}\n",
      "0.500 (+/-0.000) for {'C': 0.0001, 'degree': 2, 'kernel': 'poly'}\n",
      "0.500 (+/-0.000) for {'C': 0.0001, 'degree': 3, 'kernel': 'poly'}\n",
      "0.500 (+/-0.000) for {'C': 0.0001, 'degree': 4, 'kernel': 'poly'}\n",
      "0.500 (+/-0.000) for {'C': 0.0001, 'degree': 5, 'kernel': 'poly'}\n",
      "0.480 (+/-0.061) for {'C': 0.0001, 'degree': 6, 'kernel': 'poly'}\n",
      "0.499 (+/-0.140) for {'C': 0.0001, 'degree': 7, 'kernel': 'poly'}\n",
      "0.500 (+/-0.000) for {'C': 0.001, 'degree': 1, 'kernel': 'poly'}\n",
      "0.500 (+/-0.000) for {'C': 0.001, 'degree': 2, 'kernel': 'poly'}\n",
      "0.500 (+/-0.000) for {'C': 0.001, 'degree': 3, 'kernel': 'poly'}\n",
      "0.500 (+/-0.000) for {'C': 0.001, 'degree': 4, 'kernel': 'poly'}\n",
      "0.502 (+/-0.131) for {'C': 0.001, 'degree': 5, 'kernel': 'poly'}\n",
      "0.487 (+/-0.128) for {'C': 0.001, 'degree': 6, 'kernel': 'poly'}\n",
      "0.524 (+/-0.164) for {'C': 0.001, 'degree': 7, 'kernel': 'poly'}\n",
      "0.500 (+/-0.000) for {'C': 0.01, 'degree': 1, 'kernel': 'poly'}\n",
      "0.500 (+/-0.000) for {'C': 0.01, 'degree': 2, 'kernel': 'poly'}\n",
      "0.500 (+/-0.000) for {'C': 0.01, 'degree': 3, 'kernel': 'poly'}\n",
      "0.478 (+/-0.114) for {'C': 0.01, 'degree': 4, 'kernel': 'poly'}\n",
      "0.483 (+/-0.144) for {'C': 0.01, 'degree': 5, 'kernel': 'poly'}\n",
      "0.535 (+/-0.184) for {'C': 0.01, 'degree': 6, 'kernel': 'poly'}\n",
      "0.583 (+/-0.117) for {'C': 0.01, 'degree': 7, 'kernel': 'poly'}\n",
      "0.500 (+/-0.000) for {'C': 0.1, 'degree': 1, 'kernel': 'poly'}\n",
      "0.500 (+/-0.000) for {'C': 0.1, 'degree': 2, 'kernel': 'poly'}\n",
      "0.456 (+/-0.141) for {'C': 0.1, 'degree': 3, 'kernel': 'poly'}\n",
      "0.484 (+/-0.147) for {'C': 0.1, 'degree': 4, 'kernel': 'poly'}\n",
      "0.550 (+/-0.191) for {'C': 0.1, 'degree': 5, 'kernel': 'poly'}\n",
      "0.562 (+/-0.094) for {'C': 0.1, 'degree': 6, 'kernel': 'poly'}\n",
      "0.593 (+/-0.120) for {'C': 0.1, 'degree': 7, 'kernel': 'poly'}\n",
      "0.500 (+/-0.000) for {'C': 0.5, 'degree': 1, 'kernel': 'poly'}\n",
      "0.482 (+/-0.047) for {'C': 0.5, 'degree': 2, 'kernel': 'poly'}\n",
      "0.499 (+/-0.094) for {'C': 0.5, 'degree': 3, 'kernel': 'poly'}\n",
      "0.521 (+/-0.151) for {'C': 0.5, 'degree': 4, 'kernel': 'poly'}\n",
      "0.532 (+/-0.119) for {'C': 0.5, 'degree': 5, 'kernel': 'poly'}\n",
      "0.568 (+/-0.103) for {'C': 0.5, 'degree': 6, 'kernel': 'poly'}\n",
      "0.593 (+/-0.120) for {'C': 0.5, 'degree': 7, 'kernel': 'poly'}\n",
      "\n",
      "Detailed classification report:\n",
      "\n",
      "The model is trained on the full development set.\n",
      "The scores are computed on the full evaluation set.\n",
      "\n",
      "              precision    recall  f1-score   support\n",
      "\n",
      "           0       0.75      0.71      0.73        21\n",
      "           1       0.57      0.62      0.59        13\n",
      "\n",
      "    accuracy                           0.68        34\n",
      "   macro avg       0.66      0.66      0.66        34\n",
      "weighted avg       0.68      0.68      0.68        34\n",
      "\n",
      "\n"
     ]
    }
   ],
   "source": [
    "# Qui faccio la cross validation per stimare i parametri\n",
    "tuned_parameters_2 = [{'kernel': ['rbf'], 'gamma': [1e-1, 1e-2, 1e-3, 1e-4, 1e-5],\n",
    "                     'C': [1e-5, 1e-4, 1e-3, 1e-2, 1e-1, 0.5]},\n",
    "                    {'kernel': ['linear'], 'C': [1e-5, 1e-4, 1e-3, 1e-2, 1e-1, 0.5]},{'kernel': ['poly'], 'C': [1e-5, 1e-4, 1e-3, 1e-2, 1e-1, 0.5], 'degree': [1, 2, 3, 4, 5, 6, 7]}]\n",
    "\n",
    "scores_2 = ['precision', 'recall']\n",
    "\n",
    "for score in scores_2:\n",
    "    print(\"# Tuning hyper-parameters for %s\" % score)\n",
    "    print()\n",
    "\n",
    "    clf_2 = GridSearchCV(\n",
    "        SVC(), tuned_parameters_2, scoring='%s_macro' % score\n",
    "    )\n",
    "    clf_2.fit(X_train_2, y_train_2)\n",
    "\n",
    "    print(\"Best parameters set found on development set:\")\n",
    "    print()\n",
    "    print(clf_2.best_params_)\n",
    "    print()\n",
    "    print(\"Grid scores on development set:\")\n",
    "    print()\n",
    "    means = clf_2.cv_results_['mean_test_score']\n",
    "    stds = clf_2.cv_results_['std_test_score']\n",
    "    for mean, std, params in zip(means, stds, clf_2.cv_results_['params']):\n",
    "        print(\"%0.3f (+/-%0.03f) for %r\"\n",
    "              % (mean, std * 2, params))\n",
    "    print()\n",
    "\n",
    "    print(\"Detailed classification report:\")\n",
    "    print()\n",
    "    print(\"The model is trained on the full development set.\")\n",
    "    print(\"The scores are computed on the full evaluation set.\")\n",
    "    print()\n",
    "    y_true_2, y_pred_2 = y_val_2, clf_2.predict(X_val_2)\n",
    "    print(classification_report(y_true_2, y_pred_2))\n",
    "    print()"
   ]
  },
  {
   "cell_type": "code",
   "execution_count": 31,
   "metadata": {},
   "outputs": [
    {
     "name": "stdout",
     "output_type": "stream",
     "text": [
      "SVC(C=0.1, degree=7, kernel='poly')\n"
     ]
    }
   ],
   "source": [
    "print(clf_2.best_estimator_)"
   ]
  },
  {
   "cell_type": "code",
   "execution_count": 32,
   "metadata": {},
   "outputs": [],
   "source": [
    "grid_predictions_2 = clf_2.predict(Xt_2)"
   ]
  },
  {
   "cell_type": "code",
   "execution_count": 33,
   "metadata": {},
   "outputs": [
    {
     "name": "stdout",
     "output_type": "stream",
     "text": [
      "[[217  73]\n",
      " [ 41 101]]\n"
     ]
    }
   ],
   "source": [
    "print(confusion_matrix(yt_2,grid_predictions_2))"
   ]
  },
  {
   "cell_type": "code",
   "execution_count": 34,
   "metadata": {},
   "outputs": [
    {
     "name": "stdout",
     "output_type": "stream",
     "text": [
      "              precision    recall  f1-score   support\n",
      "\n",
      "           0       0.84      0.75      0.79       290\n",
      "           1       0.58      0.71      0.64       142\n",
      "\n",
      "    accuracy                           0.74       432\n",
      "   macro avg       0.71      0.73      0.72       432\n",
      "weighted avg       0.76      0.74      0.74       432\n",
      "\n"
     ]
    }
   ],
   "source": [
    "print(classification_report(yt_2,grid_predictions_2))"
   ]
  },
  {
   "cell_type": "markdown",
   "metadata": {},
   "source": [
    "# MONK 3"
   ]
  },
  {
   "cell_type": "markdown",
   "metadata": {},
   "source": [
    "# DATA IMPORT"
   ]
  },
  {
   "cell_type": "code",
   "execution_count": 35,
   "metadata": {},
   "outputs": [],
   "source": [
    "df_train_3=pd.read_csv(\"/Users/matteoppa/Desktop/ML/ML_project_2020/train3.csv\",sep=' ',header=None)\n",
    "df_test_3=pd.read_csv(\"/Users/matteoppa/Desktop/ML/ML_project_2020/test3.csv\",sep=' ',header=None)"
   ]
  },
  {
   "cell_type": "code",
   "execution_count": 36,
   "metadata": {},
   "outputs": [],
   "source": [
    "df_train_3.columns = [\"trash\",\"Class\",\"a1\",\"a2\",\"a3\",\"a4\",\"a5\",\"a6\",\"id\"]"
   ]
  },
  {
   "cell_type": "code",
   "execution_count": 37,
   "metadata": {},
   "outputs": [],
   "source": [
    "df_test_3.columns = [\"trash\",\"Class\",\"a1\",\"a2\",\"a3\",\"a4\",\"a5\",\"a6\",\"id\"]"
   ]
  },
  {
   "cell_type": "code",
   "execution_count": 38,
   "metadata": {},
   "outputs": [],
   "source": [
    "df_train_3.drop('trash',\n",
    "  axis='columns', inplace=True)\n",
    "df_train_3.drop(\"id\", axis='columns', inplace=True)"
   ]
  },
  {
   "cell_type": "code",
   "execution_count": 39,
   "metadata": {},
   "outputs": [],
   "source": [
    "df_test_3.drop('trash',\n",
    "  axis='columns', inplace=True)\n",
    "df_test_3.drop(\"id\", axis='columns', inplace=True)"
   ]
  },
  {
   "cell_type": "code",
   "execution_count": 40,
   "metadata": {},
   "outputs": [],
   "source": [
    "scaler = MinMaxScaler()\n",
    "# transform data\n",
    "scaled_train_3 = scaler.fit_transform(df_train_2)\n",
    "scaled_test_3= scaler.fit_transform(df_test_2)"
   ]
  },
  {
   "cell_type": "code",
   "execution_count": 41,
   "metadata": {},
   "outputs": [],
   "source": [
    "y_3 = df_train_3[\"Class\"]\n",
    "X_3 = df_train_3.drop(\"Class\", axis =1)"
   ]
  },
  {
   "cell_type": "code",
   "execution_count": 42,
   "metadata": {},
   "outputs": [],
   "source": [
    "yt_3 = df_test_3[\"Class\"]\n",
    "Xt_3 = df_test_3.drop(\"Class\", axis =1)"
   ]
  },
  {
   "cell_type": "markdown",
   "metadata": {},
   "source": [
    "# MODEL SELECTION"
   ]
  },
  {
   "cell_type": "code",
   "execution_count": 43,
   "metadata": {},
   "outputs": [],
   "source": [
    "X_train_3, X_val_3, y_train_3, y_val_3 = train_test_split(X_3, y_3, test_size = 0.20)"
   ]
  },
  {
   "cell_type": "code",
   "execution_count": 44,
   "metadata": {},
   "outputs": [
    {
     "name": "stdout",
     "output_type": "stream",
     "text": [
      "# Tuning hyper-parameters for precision\n",
      "\n",
      "Best parameters set found on development set:\n",
      "\n",
      "{'C': 0.5, 'gamma': 0.1, 'kernel': 'rbf'}\n",
      "\n",
      "Grid scores on development set:\n",
      "\n",
      "0.258 (+/-0.013) for {'C': 1e-05, 'gamma': 0.1, 'kernel': 'rbf'}\n",
      "0.258 (+/-0.013) for {'C': 1e-05, 'gamma': 0.01, 'kernel': 'rbf'}\n",
      "0.258 (+/-0.013) for {'C': 1e-05, 'gamma': 0.001, 'kernel': 'rbf'}\n",
      "0.258 (+/-0.013) for {'C': 1e-05, 'gamma': 0.0001, 'kernel': 'rbf'}\n",
      "0.258 (+/-0.013) for {'C': 1e-05, 'gamma': 1e-05, 'kernel': 'rbf'}\n",
      "0.258 (+/-0.013) for {'C': 0.0001, 'gamma': 0.1, 'kernel': 'rbf'}\n",
      "0.258 (+/-0.013) for {'C': 0.0001, 'gamma': 0.01, 'kernel': 'rbf'}\n",
      "0.258 (+/-0.013) for {'C': 0.0001, 'gamma': 0.001, 'kernel': 'rbf'}\n",
      "0.258 (+/-0.013) for {'C': 0.0001, 'gamma': 0.0001, 'kernel': 'rbf'}\n",
      "0.258 (+/-0.013) for {'C': 0.0001, 'gamma': 1e-05, 'kernel': 'rbf'}\n",
      "0.258 (+/-0.013) for {'C': 0.001, 'gamma': 0.1, 'kernel': 'rbf'}\n",
      "0.258 (+/-0.013) for {'C': 0.001, 'gamma': 0.01, 'kernel': 'rbf'}\n",
      "0.258 (+/-0.013) for {'C': 0.001, 'gamma': 0.001, 'kernel': 'rbf'}\n",
      "0.258 (+/-0.013) for {'C': 0.001, 'gamma': 0.0001, 'kernel': 'rbf'}\n",
      "0.258 (+/-0.013) for {'C': 0.001, 'gamma': 1e-05, 'kernel': 'rbf'}\n",
      "0.258 (+/-0.013) for {'C': 0.01, 'gamma': 0.1, 'kernel': 'rbf'}\n",
      "0.258 (+/-0.013) for {'C': 0.01, 'gamma': 0.01, 'kernel': 'rbf'}\n",
      "0.258 (+/-0.013) for {'C': 0.01, 'gamma': 0.001, 'kernel': 'rbf'}\n",
      "0.258 (+/-0.013) for {'C': 0.01, 'gamma': 0.0001, 'kernel': 'rbf'}\n",
      "0.258 (+/-0.013) for {'C': 0.01, 'gamma': 1e-05, 'kernel': 'rbf'}\n",
      "0.785 (+/-0.157) for {'C': 0.1, 'gamma': 0.1, 'kernel': 'rbf'}\n",
      "0.258 (+/-0.013) for {'C': 0.1, 'gamma': 0.01, 'kernel': 'rbf'}\n",
      "0.258 (+/-0.013) for {'C': 0.1, 'gamma': 0.001, 'kernel': 'rbf'}\n",
      "0.258 (+/-0.013) for {'C': 0.1, 'gamma': 0.0001, 'kernel': 'rbf'}\n",
      "0.258 (+/-0.013) for {'C': 0.1, 'gamma': 1e-05, 'kernel': 'rbf'}\n",
      "0.895 (+/-0.079) for {'C': 0.5, 'gamma': 0.1, 'kernel': 'rbf'}\n",
      "0.803 (+/-0.197) for {'C': 0.5, 'gamma': 0.01, 'kernel': 'rbf'}\n",
      "0.258 (+/-0.013) for {'C': 0.5, 'gamma': 0.001, 'kernel': 'rbf'}\n",
      "0.258 (+/-0.013) for {'C': 0.5, 'gamma': 0.0001, 'kernel': 'rbf'}\n",
      "0.258 (+/-0.013) for {'C': 0.5, 'gamma': 1e-05, 'kernel': 'rbf'}\n",
      "0.258 (+/-0.013) for {'C': 1e-05, 'kernel': 'linear'}\n",
      "0.258 (+/-0.013) for {'C': 0.0001, 'kernel': 'linear'}\n",
      "0.258 (+/-0.013) for {'C': 0.001, 'kernel': 'linear'}\n",
      "0.771 (+/-0.214) for {'C': 0.01, 'kernel': 'linear'}\n",
      "0.755 (+/-0.247) for {'C': 0.1, 'kernel': 'linear'}\n",
      "0.800 (+/-0.199) for {'C': 0.5, 'kernel': 'linear'}\n",
      "\n",
      "Detailed classification report:\n",
      "\n",
      "The model is trained on the full development set.\n",
      "The scores are computed on the full evaluation set.\n",
      "\n",
      "              precision    recall  f1-score   support\n",
      "\n",
      "           0       0.60      0.60      0.60        15\n",
      "           1       0.40      0.40      0.40        10\n",
      "\n",
      "    accuracy                           0.52        25\n",
      "   macro avg       0.50      0.50      0.50        25\n",
      "weighted avg       0.52      0.52      0.52        25\n",
      "\n",
      "\n",
      "# Tuning hyper-parameters for recall\n",
      "\n",
      "Best parameters set found on development set:\n",
      "\n",
      "{'C': 0.5, 'gamma': 0.1, 'kernel': 'rbf'}\n",
      "\n",
      "Grid scores on development set:\n",
      "\n",
      "0.500 (+/-0.000) for {'C': 1e-05, 'gamma': 0.1, 'kernel': 'rbf'}\n",
      "0.500 (+/-0.000) for {'C': 1e-05, 'gamma': 0.01, 'kernel': 'rbf'}\n",
      "0.500 (+/-0.000) for {'C': 1e-05, 'gamma': 0.001, 'kernel': 'rbf'}\n",
      "0.500 (+/-0.000) for {'C': 1e-05, 'gamma': 0.0001, 'kernel': 'rbf'}\n",
      "0.500 (+/-0.000) for {'C': 1e-05, 'gamma': 1e-05, 'kernel': 'rbf'}\n",
      "0.500 (+/-0.000) for {'C': 0.0001, 'gamma': 0.1, 'kernel': 'rbf'}\n",
      "0.500 (+/-0.000) for {'C': 0.0001, 'gamma': 0.01, 'kernel': 'rbf'}\n",
      "0.500 (+/-0.000) for {'C': 0.0001, 'gamma': 0.001, 'kernel': 'rbf'}\n",
      "0.500 (+/-0.000) for {'C': 0.0001, 'gamma': 0.0001, 'kernel': 'rbf'}\n",
      "0.500 (+/-0.000) for {'C': 0.0001, 'gamma': 1e-05, 'kernel': 'rbf'}\n",
      "0.500 (+/-0.000) for {'C': 0.001, 'gamma': 0.1, 'kernel': 'rbf'}\n",
      "0.500 (+/-0.000) for {'C': 0.001, 'gamma': 0.01, 'kernel': 'rbf'}\n",
      "0.500 (+/-0.000) for {'C': 0.001, 'gamma': 0.001, 'kernel': 'rbf'}\n",
      "0.500 (+/-0.000) for {'C': 0.001, 'gamma': 0.0001, 'kernel': 'rbf'}\n",
      "0.500 (+/-0.000) for {'C': 0.001, 'gamma': 1e-05, 'kernel': 'rbf'}\n",
      "0.500 (+/-0.000) for {'C': 0.01, 'gamma': 0.1, 'kernel': 'rbf'}\n",
      "0.500 (+/-0.000) for {'C': 0.01, 'gamma': 0.01, 'kernel': 'rbf'}\n",
      "0.500 (+/-0.000) for {'C': 0.01, 'gamma': 0.001, 'kernel': 'rbf'}\n",
      "0.500 (+/-0.000) for {'C': 0.01, 'gamma': 0.0001, 'kernel': 'rbf'}\n",
      "0.500 (+/-0.000) for {'C': 0.01, 'gamma': 1e-05, 'kernel': 'rbf'}\n",
      "0.717 (+/-0.135) for {'C': 0.1, 'gamma': 0.1, 'kernel': 'rbf'}\n",
      "0.500 (+/-0.000) for {'C': 0.1, 'gamma': 0.01, 'kernel': 'rbf'}\n",
      "0.500 (+/-0.000) for {'C': 0.1, 'gamma': 0.001, 'kernel': 'rbf'}\n",
      "0.500 (+/-0.000) for {'C': 0.1, 'gamma': 0.0001, 'kernel': 'rbf'}\n",
      "0.500 (+/-0.000) for {'C': 0.1, 'gamma': 1e-05, 'kernel': 'rbf'}\n",
      "0.878 (+/-0.105) for {'C': 0.5, 'gamma': 0.1, 'kernel': 'rbf'}\n",
      "0.749 (+/-0.203) for {'C': 0.5, 'gamma': 0.01, 'kernel': 'rbf'}\n",
      "0.500 (+/-0.000) for {'C': 0.5, 'gamma': 0.001, 'kernel': 'rbf'}\n",
      "0.500 (+/-0.000) for {'C': 0.5, 'gamma': 0.0001, 'kernel': 'rbf'}\n",
      "0.500 (+/-0.000) for {'C': 0.5, 'gamma': 1e-05, 'kernel': 'rbf'}\n",
      "0.500 (+/-0.000) for {'C': 1e-05, 'kernel': 'linear'}\n",
      "0.500 (+/-0.000) for {'C': 0.0001, 'kernel': 'linear'}\n",
      "0.500 (+/-0.000) for {'C': 0.001, 'kernel': 'linear'}\n",
      "0.740 (+/-0.217) for {'C': 0.01, 'kernel': 'linear'}\n",
      "0.752 (+/-0.250) for {'C': 0.1, 'kernel': 'linear'}\n",
      "0.792 (+/-0.204) for {'C': 0.5, 'kernel': 'linear'}\n",
      "\n",
      "Detailed classification report:\n",
      "\n",
      "The model is trained on the full development set.\n",
      "The scores are computed on the full evaluation set.\n",
      "\n",
      "              precision    recall  f1-score   support\n",
      "\n",
      "           0       0.60      0.60      0.60        15\n",
      "           1       0.40      0.40      0.40        10\n",
      "\n",
      "    accuracy                           0.52        25\n",
      "   macro avg       0.50      0.50      0.50        25\n",
      "weighted avg       0.52      0.52      0.52        25\n",
      "\n",
      "\n"
     ]
    }
   ],
   "source": [
    "tuned_parameters_3 = [{'kernel': ['rbf'], 'gamma': [1e-1, 1e-2, 1e-3, 1e-4, 1e-5],\n",
    "                     'C': [1e-5, 1e-4, 1e-3, 1e-2, 1e-1, 0.5]},\n",
    "                    {'kernel': ['linear'], 'C': [1e-5, 1e-4, 1e-3, 1e-2, 1e-1, 0.5]}]\n",
    "\n",
    "scores_3 = ['precision', 'recall']\n",
    "\n",
    "for score in scores_2:\n",
    "    print(\"# Tuning hyper-parameters for %s\" % score)\n",
    "    print()\n",
    "\n",
    "    clf_3 = GridSearchCV(\n",
    "        SVC(), tuned_parameters_3, scoring='%s_macro' % score\n",
    "    )\n",
    "    clf_3.fit(X_train_3, y_train_3)\n",
    "\n",
    "    print(\"Best parameters set found on development set:\")\n",
    "    print()\n",
    "    print(clf_3.best_params_)\n",
    "    print()\n",
    "    print(\"Grid scores on development set:\")\n",
    "    print()\n",
    "    means = clf_3.cv_results_['mean_test_score']\n",
    "    stds = clf_3.cv_results_['std_test_score']\n",
    "    for mean, std, params in zip(means, stds, clf_3.cv_results_['params']):\n",
    "        print(\"%0.3f (+/-%0.03f) for %r\"\n",
    "              % (mean, std * 2, params))\n",
    "    print()\n",
    "\n",
    "    print(\"Detailed classification report:\")\n",
    "    print()\n",
    "    print(\"The model is trained on the full development set.\")\n",
    "    print(\"The scores are computed on the full evaluation set.\")\n",
    "    print()\n",
    "    y_true_3, y_pred_3 = y_val_3, clf_2.predict(X_val_3)\n",
    "    print(classification_report(y_true_3, y_pred_3))\n",
    "    print()"
   ]
  },
  {
   "cell_type": "code",
   "execution_count": 45,
   "metadata": {},
   "outputs": [
    {
     "name": "stdout",
     "output_type": "stream",
     "text": [
      "SVC(C=0.5, gamma=0.1)\n"
     ]
    }
   ],
   "source": [
    "print(clf_3.best_estimator_)"
   ]
  },
  {
   "cell_type": "code",
   "execution_count": 46,
   "metadata": {},
   "outputs": [],
   "source": [
    "grid_predictions_3 = clf_3.predict(Xt_3)"
   ]
  },
  {
   "cell_type": "code",
   "execution_count": 47,
   "metadata": {},
   "outputs": [
    {
     "name": "stdout",
     "output_type": "stream",
     "text": [
      "[[198   6]\n",
      " [ 34 194]]\n"
     ]
    }
   ],
   "source": [
    "print(confusion_matrix(yt_3,grid_predictions_3))"
   ]
  },
  {
   "cell_type": "code",
   "execution_count": 48,
   "metadata": {},
   "outputs": [
    {
     "name": "stdout",
     "output_type": "stream",
     "text": [
      "              precision    recall  f1-score   support\n",
      "\n",
      "           0       0.85      0.97      0.91       204\n",
      "           1       0.97      0.85      0.91       228\n",
      "\n",
      "    accuracy                           0.91       432\n",
      "   macro avg       0.91      0.91      0.91       432\n",
      "weighted avg       0.91      0.91      0.91       432\n",
      "\n"
     ]
    }
   ],
   "source": [
    "print(classification_report(yt_3,grid_predictions_3))"
   ]
  },
  {
   "cell_type": "code",
   "execution_count": null,
   "metadata": {},
   "outputs": [],
   "source": []
  },
  {
   "cell_type": "code",
   "execution_count": null,
   "metadata": {},
   "outputs": [],
   "source": []
  }
 ],
 "metadata": {
  "kernelspec": {
   "display_name": "Python 3",
   "language": "python",
   "name": "python3"
  },
  "language_info": {
   "codemirror_mode": {
    "name": "ipython",
    "version": 3
   },
   "file_extension": ".py",
   "mimetype": "text/x-python",
   "name": "python",
   "nbconvert_exporter": "python",
   "pygments_lexer": "ipython3",
   "version": "3.8.3"
  }
 },
 "nbformat": 4,
 "nbformat_minor": 4
}
